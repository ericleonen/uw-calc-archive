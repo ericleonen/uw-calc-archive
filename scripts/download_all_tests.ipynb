{
 "cells": [
  {
   "cell_type": "markdown",
   "id": "1e2dcad7",
   "metadata": {},
   "source": [
    "# Scratch paper for `download_all_tests.py`"
   ]
  },
  {
   "cell_type": "code",
   "execution_count": 20,
   "id": "d8b6e9b7",
   "metadata": {},
   "outputs": [],
   "source": [
    "from bs4 import BeautifulSoup\n",
    "import pandas as pd\n",
    "import requests\n",
    "import urllib.parse"
   ]
  },
  {
   "cell_type": "code",
   "execution_count": 21,
   "id": "9275e00e",
   "metadata": {},
   "outputs": [],
   "source": [
    "# Get the soup of a sample archive URL\n",
    "\n",
    "TEST_ARCHIVE_URL = \"https://sites.math.washington.edu/~m126/finals/final.php\"\n",
    "\n",
    "archive_res = requests.get(TEST_ARCHIVE_URL)\n",
    "archive_res.raise_for_status()\n",
    "\n",
    "archive_soup = BeautifulSoup(archive_res.content)"
   ]
  },
  {
   "cell_type": "code",
   "execution_count": 22,
   "id": "65554e0c",
   "metadata": {},
   "outputs": [
    {
     "name": "stdout",
     "output_type": "stream",
     "text": [
      "https://sites.math.washington.edu/~m126/finals/\n"
     ]
    }
   ],
   "source": [
    "# Get the root and base sections of empty test and answer key PDFs\n",
    "\n",
    "archive_base = TEST_ARCHIVE_URL[0:TEST_ARCHIVE_URL.rfind(\"/\")] + \"/\"\n",
    "\n",
    "archive_base_elem = archive_soup.find(\"base\")\n",
    "if archive_base_elem is not None:\n",
    "    archive_base = urllib.parse.urljoin(archive_base, archive_base_elem.get(\"href\", \"\"))\n",
    "\n",
    "print(archive_base)"
   ]
  },
  {
   "cell_type": "code",
   "execution_count": null,
   "id": "67fee153",
   "metadata": {},
   "outputs": [
    {
     "data": {
      "text/plain": [
       "[{'test': 'https://sites.math.washington.edu/~m126/finals/m126finalSpr2024.pdf',\n",
       "  'answer_key': 'https://sites.math.washington.edu/~m126/finals/m126finalSpr2024Ans.pdf'},\n",
       " {'test': 'https://sites.math.washington.edu/~m126/finals/m126finalAut2021.pdf',\n",
       "  'answer_key': 'https://sites.math.washington.edu/~m126/finals/m126finalAut2021Ans.pdf'},\n",
       " {'test': 'https://sites.math.washington.edu/~m126/finals/m126finalSpr2019.pdf',\n",
       "  'answer_key': 'https://sites.math.washington.edu/~m126/finals/m126finalSpr2019Ans.pdf'},\n",
       " {'test': 'https://sites.math.washington.edu/~m126/finals/m126finalWin2019.pdf',\n",
       "  'answer_key': 'https://sites.math.washington.edu/~m126/finals/m126finalWin2019Ans.pdf'},\n",
       " {'test': 'https://sites.math.washington.edu/~m126/finals/m126finalAut2018.pdf',\n",
       "  'answer_key': 'https://sites.math.washington.edu/~m126/finals/m126finalAut2018Ans.pdf'},\n",
       " {'test': 'https://sites.math.washington.edu/~m126/finals/m126finalSpr2018.pdf',\n",
       "  'answer_key': 'https://sites.math.washington.edu/~m126/finals/m126finalSpr2018Ans.pdf'},\n",
       " {'test': 'https://sites.math.washington.edu/~m126/finals/m126finalWin2018.pdf',\n",
       "  'answer_key': 'https://sites.math.washington.edu/~m126/finals/m126finalWin2018Ans.pdf'},\n",
       " {'test': 'https://sites.math.washington.edu/~m126/finals/m126finalAut2017.pdf',\n",
       "  'answer_key': 'https://sites.math.washington.edu/~m126/finals/m126finalAut2017Ans.pdf'},\n",
       " {'test': 'https://sites.math.washington.edu/~m126/finals/m126finalSpr2017.pdf',\n",
       "  'answer_key': 'https://sites.math.washington.edu/~m126/finals/m126finalSpr2017Ans.pdf'},\n",
       " {'test': 'https://sites.math.washington.edu/~m126/finals/m126finalWin2017.pdf',\n",
       "  'answer_key': 'https://sites.math.washington.edu/~m126/finals/m126finalWin2017Ans.pdf'},\n",
       " {'test': 'https://sites.math.washington.edu/~m126/finals/m126finalAut2016.pdf',\n",
       "  'answer_key': 'https://sites.math.washington.edu/~m126/finals/m126finalAut2016Ans.pdf'},\n",
       " {'test': 'https://sites.math.washington.edu/~m126/finals/m126finalSpr2016.pdf',\n",
       "  'answer_key': 'https://sites.math.washington.edu/~m126/finals/m126finalSpr2016Ans.pdf'},\n",
       " {'test': 'https://sites.math.washington.edu/~m126/finals/m126finalWin2016.pdf',\n",
       "  'answer_key': 'https://sites.math.washington.edu/~m126/finals/m126finalWin2016Ans.pdf'},\n",
       " {'test': 'https://sites.math.washington.edu/~m126/finals/m126finalAut2015.pdf',\n",
       "  'answer_key': 'https://sites.math.washington.edu/~m126/finals/m126finalAut2015Ans.pdf'},\n",
       " {'test': 'https://sites.math.washington.edu/~m126/finals/m126finalSpr2015.pdf',\n",
       "  'answer_key': 'https://sites.math.washington.edu/~m126/finals/m126finalSpr2015Ans.pdf'},\n",
       " {'test': 'https://sites.math.washington.edu/~m126/finals/m126finalWin2015.pdf',\n",
       "  'answer_key': 'https://sites.math.washington.edu/~m126/finals/m126finalWin2015Ans.pdf'},\n",
       " {'test': 'https://sites.math.washington.edu/~m126/finals/m126finalAut2014.pdf',\n",
       "  'answer_key': 'https://sites.math.washington.edu/~m126/finals/m126finalAut2014Ans.pdf'},\n",
       " {'test': 'https://sites.math.washington.edu/~m126/finals/m126finalSpr2014.pdf',\n",
       "  'answer_key': 'https://sites.math.washington.edu/~m126/finals/m126finalSpr2014Ans.pdf'},\n",
       " {'test': 'https://sites.math.washington.edu/~m126/finals/m126finalWin2014.pdf',\n",
       "  'answer_key': 'https://sites.math.washington.edu/~m126/finals/m126finalWin2014Ans.pdf'},\n",
       " {'test': 'https://sites.math.washington.edu/~m126/finals/m126finalAut2013.pdf',\n",
       "  'answer_key': 'https://sites.math.washington.edu/~m126/finals/m126finalAut2013Ans.pdf'},\n",
       " {'test': 'https://sites.math.washington.edu/~m126/finals/m126finalSpr2013.pdf',\n",
       "  'answer_key': 'https://sites.math.washington.edu/~m126/finals/m126finalSpr2013Ans.pdf'},\n",
       " {'test': 'https://sites.math.washington.edu/~m126/finals/m126finalWin2013.pdf',\n",
       "  'answer_key': 'https://sites.math.washington.edu/~m126/finals/m126finalWin2013Ans.pdf'},\n",
       " {'test': 'https://sites.math.washington.edu/~m126/finals/m126finalAut2012.pdf',\n",
       "  'answer_key': 'https://sites.math.washington.edu/~m126/finals/m126finalAut2012Ans.pdf'},\n",
       " {'test': 'https://sites.math.washington.edu/~m126/finals/m126finalSpr2012.pdf',\n",
       "  'answer_key': 'https://sites.math.washington.edu/~m126/finals/m126finalSpr2012Ans.pdf'},\n",
       " {'test': 'https://sites.math.washington.edu/~m126/finals/m126finalWin2012.pdf',\n",
       "  'answer_key': 'https://sites.math.washington.edu/~m126/finals/m126finalWin2012Ans.pdf'},\n",
       " {'test': 'https://sites.math.washington.edu/~m126/finals/m126finalAut2011.pdf',\n",
       "  'answer_key': 'https://sites.math.washington.edu/~m126/finals/m126finalAut2011Ans.pdf'},\n",
       " {'test': 'https://sites.math.washington.edu/~m126/finals/m126finalSpr2011.pdf',\n",
       "  'answer_key': 'https://sites.math.washington.edu/~m126/finals/m126finalSpr2011Ans.pdf'},\n",
       " {'test': 'https://sites.math.washington.edu/~m126/finals/m126finalWin2011.pdf',\n",
       "  'answer_key': 'https://sites.math.washington.edu/~m126/finals/m126finalWin2011Ans.pdf'},\n",
       " {'test': 'https://sites.math.washington.edu/~m126/finals/m126finalAut2010.pdf',\n",
       "  'answer_key': 'https://sites.math.washington.edu/~m126/finals/m126finalAut2010Ans.pdf'},\n",
       " {'test': 'https://sites.math.washington.edu/~m126/finals/final126_sp10.pdf',\n",
       "  'answer_key': 'https://sites.math.washington.edu/~m126/finals/finalsolutions126_sp10.pdf'},\n",
       " {'test': 'https://sites.math.washington.edu/~m126/finals/126finW09.pdf',\n",
       "  'answer_key': 'https://sites.math.washington.edu/~m126/finals/m126finalWin2009Ans.pdf'},\n",
       " {'test': 'https://sites.math.washington.edu/~m126/finals/final126_sp08.pdf'},\n",
       " {'test': 'https://sites.math.washington.edu/~m126/finals/final126_wi08_mkup.pdf'},\n",
       " {'test': 'https://sites.math.washington.edu/~m126/finals/final126_au07.pdf',\n",
       "  'answer_key': 'https://sites.math.washington.edu/~m126/finals/final126_aut07ans.pdf'},\n",
       " {'test': 'https://sites.math.washington.edu/~m126/finals/final126_sp07.pdf',\n",
       "  'answer_key': 'https://sites.math.washington.edu/~m126/finals/final126_sp07ans.pdf'},\n",
       " {'test': 'https://sites.math.washington.edu/~m126/finals/final126_wi07.pdf',\n",
       "  'answer_key': 'https://sites.math.washington.edu/~m126/finals/final126_wi07ans.pdf'}]"
      ]
     },
     "execution_count": 27,
     "metadata": {},
     "output_type": "execute_result"
    }
   ],
   "source": [
    "# Create a list of tests\n",
    "\n",
    "tests: list[dict[str, str]] = []\n",
    "\n",
    "for tr_elem in archive_soup.find_all(\"tr\"):\n",
    "    test = {}\n",
    "\n",
    "    for a_elem in tr_elem.find_all(\"a\"):\n",
    "        pdf_href = a_elem.get(\"href\", \"\")\n",
    "\n",
    "        if not pdf_href.endswith(\".pdf\"):\n",
    "            continue\n",
    "        \n",
    "        for key in [\"test\", \"answer_key\"]:\n",
    "            if key not in test:\n",
    "                has_http = pdf_href.startswith(\"http\")\n",
    "                test[key] = pdf_href if has_http else archive_base + pdf_href\n",
    "                break\n",
    "\n",
    "    tests.append(test)\n",
    "\n",
    "tests"
   ]
  }
 ],
 "metadata": {
  "kernelspec": {
   "display_name": ".venv (3.11.2)",
   "language": "python",
   "name": "python3"
  },
  "language_info": {
   "codemirror_mode": {
    "name": "ipython",
    "version": 3
   },
   "file_extension": ".py",
   "mimetype": "text/x-python",
   "name": "python",
   "nbconvert_exporter": "python",
   "pygments_lexer": "ipython3",
   "version": "3.11.2"
  }
 },
 "nbformat": 4,
 "nbformat_minor": 5
}
