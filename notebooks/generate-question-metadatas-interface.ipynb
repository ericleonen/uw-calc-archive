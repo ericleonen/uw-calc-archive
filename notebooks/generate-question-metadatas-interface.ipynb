{
 "cells": [
  {
   "cell_type": "code",
   "execution_count": 24,
   "id": "53f7fb87",
   "metadata": {},
   "outputs": [],
   "source": [
    "from pathlib import Path\n",
    "from IPython.display import HTML, display\n",
    "import os\n",
    "import base64\n",
    "import shutil\n",
    "from PIL import Image\n",
    "import numpy as np"
   ]
  },
  {
   "cell_type": "code",
   "execution_count": 50,
   "id": "1c0452d2",
   "metadata": {},
   "outputs": [
    {
     "name": "stdout",
     "output_type": "stream",
     "text": [
      "Tests in archive: 159 (978 questions)\n",
      "Tests left: 0\n"
     ]
    }
   ],
   "source": [
    "# ▶️ NEXT\n",
    "\n",
    "ARCHIVE_DIR = Path(\"../data/archive\")\n",
    "PROCESSED_DIR = Path(\"../data/processed\")\n",
    "\n",
    "archive_tests = 0\n",
    "archive_questions = 0\n",
    "for test_dir_path in ARCHIVE_DIR.iterdir():\n",
    "    if not test_dir_path.is_dir():\n",
    "        continue\n",
    "\n",
    "    archive_tests += 1\n",
    "    archive_questions += len(list(test_dir_path.iterdir())) - 1\n",
    "\n",
    "print(f\"Tests in archive: {archive_tests} ({archive_questions} questions)\")\n",
    "\n",
    "def img_tag(p: Path, max_h=220):\n",
    "    b = p.read_bytes()\n",
    "    mime = \"image/png\"\n",
    "    b64 = base64.b64encode(b).decode(\"ascii\")\n",
    "    return f'<img src=\"data:{mime};base64,{b64}\" style=\"max-height:{max_h}px;\">'\n",
    "\n",
    "print(f\"Tests left: {len(list(PROCESSED_DIR.iterdir()))}\")\n",
    "\n",
    "for test_path in PROCESSED_DIR.iterdir():\n",
    "    test_id = test_path.name\n",
    "\n",
    "    rows = []\n",
    "    for q_dir in sorted(p for p in test_path.iterdir() if p.is_dir()):\n",
    "        q = (q_dir / \"question.png\").resolve()\n",
    "        a = (q_dir / \"answer.png\").resolve()\n",
    "\n",
    "        rows.append(\n",
    "            f\"\"\"\n",
    "            <tr>\n",
    "              <td style=\"padding:8px; vertical-align:top; white-space:nowrap;\">{q_dir.name}</td>\n",
    "              <td style=\"padding:8px;\">{img_tag(q)}</td>\n",
    "              <td style=\"padding:8px;\">{img_tag(a)}</td>\n",
    "            </tr>\n",
    "            \"\"\"\n",
    "        )\n",
    "\n",
    "    html = f\"\"\"\n",
    "    <div>\n",
    "      <table border=\"0\" cellspacing=\"0\" cellpadding=\"0\">\n",
    "        <thead>\n",
    "          <tr>\n",
    "            <th style=\"text-align:left; padding:8px;\">Q</th>\n",
    "            <th style=\"text-align:left; padding:8px;\">question.png</th>\n",
    "            <th style=\"text-align:left; padding:8px;\">answer.png</th>\n",
    "          </tr>\n",
    "        </thead>\n",
    "        <tbody>\n",
    "          {''.join(rows)}\n",
    "        </tbody>\n",
    "      </table>\n",
    "    </div>\n",
    "    \"\"\"\n",
    "    display(HTML(html))\n",
    "    break"
   ]
  },
  {
   "cell_type": "code",
   "execution_count": 49,
   "id": "32d35c70",
   "metadata": {},
   "outputs": [
    {
     "name": "stdout",
     "output_type": "stream",
     "text": [
      "Generating question metadatas for test 329a2c51-3a94-4280-b8b6-29c6e9f706cd\n",
      "Q1: ✅\n",
      "Q2: ✅\n",
      "Q3: ✅\n",
      "Q4: ✅\n",
      "Q5: ✅\n"
     ]
    }
   ],
   "source": [
    "# 🤖 GENERATE\n",
    "%run ../scripts/generate_question_metadatas -testId {test_id}"
   ]
  },
  {
   "cell_type": "code",
   "execution_count": 47,
   "id": "4392def7",
   "metadata": {},
   "outputs": [],
   "source": [
    "# ⬜ CAP WHITESPACE\n",
    "\n",
    "def cap_whitespace_from_canvas(\n",
    "    canvas: Image,\n",
    "    max_whitespace_height: int = 32,\n",
    "    max_whitespace_width: int = 32,\n",
    "    white_threshold: int = 245,\n",
    "    min_whitespace_pixels_ratio: float = 0.998,\n",
    ") -> Image:\n",
    "    \"\"\"\n",
    "    Caps the height and width of whitespace rectangles in a canvas.\n",
    "\n",
    "    Parameters\n",
    "    ----------\n",
    "    canvas: Image\n",
    "        The original canvas.\n",
    "    max_whitespace_height: int, optional\n",
    "        Maximum allowed height (in image pixels) of a whitespace rectangle that is the width of the\n",
    "        page. Default 32.\n",
    "    max_whitespace_width: int, optional\n",
    "        Maximum allowed width (in image pixels) of a whitespace rectangle that is the height of the\n",
    "        page. Default 32.\n",
    "    ink_threshold: float, optional\n",
    "        Minimum value of a grayscale pixel (0-255) to be considered \"white\". Default 245.\n",
    "    min_whitespace_pixels_ratio: float, optional\n",
    "        Minimum ratio of \"white\" pixels in a row or column to consider the whole row or column\n",
    "        white.\n",
    "\n",
    "    Returns\n",
    "    -------\n",
    "    canvas: Image\n",
    "        A new image with capped whitespaces.\n",
    "    \"\"\"\n",
    "    rgb_canvas = canvas.convert(\"RGB\")\n",
    "    arr_rgb = np.array(rgb_canvas, dtype=np.uint8)\n",
    "\n",
    "    # --- ROWS ---\n",
    "    arr_gray = np.array(canvas.convert(\"L\"), dtype=np.uint8)\n",
    "    arr_height, arr_width = arr_gray.shape\n",
    "\n",
    "    white_mask = arr_gray >= white_threshold\n",
    "    row_is_white = white_mask.mean(axis=1) >= min_whitespace_pixels_ratio\n",
    "\n",
    "    out_rows_rgb = []\n",
    "    consecutive_whitespace_rows = 0\n",
    "\n",
    "    for r in range(arr_height):\n",
    "        if row_is_white[r]:\n",
    "            if consecutive_whitespace_rows < max_whitespace_height:\n",
    "                out_rows_rgb.append(arr_rgb[r:r + 1, :, :])\n",
    "\n",
    "            consecutive_whitespace_rows += 1\n",
    "        else:\n",
    "            consecutive_whitespace_rows = 0\n",
    "            out_rows_rgb.append(arr_rgb[r:r + 1, :, :])\n",
    "\n",
    "    arr_rgb = np.vstack(out_rows_rgb).astype(np.uint8)\n",
    "\n",
    "    # --- COLUMNS ---\n",
    "    arr_gray = np.array(Image.fromarray(arr_rgb).convert(\"L\"), dtype=np.uint8)\n",
    "    arr_height, arr_width = arr_gray.shape\n",
    "\n",
    "    white_mask = arr_gray >= white_threshold\n",
    "    col_is_white = white_mask.mean(axis=0) >= min_whitespace_pixels_ratio\n",
    "\n",
    "    out_cols_rgb = []\n",
    "    consecutive_whitespace_cols = 0\n",
    "\n",
    "    for c in range(arr_width):\n",
    "        if col_is_white[c]:\n",
    "            if consecutive_whitespace_cols < max_whitespace_width:\n",
    "                out_cols_rgb.append(arr_rgb[:, c : c + 1, :])\n",
    "\n",
    "            consecutive_whitespace_cols += 1\n",
    "        else:\n",
    "            consecutive_whitespace_cols = 0\n",
    "            out_cols_rgb.append(arr_rgb[:, c : c + 1, :])\n",
    "\n",
    "    arr_rgb = np.concatenate(out_cols_rgb, axis=1).astype(np.uint8)\n",
    "    return Image.fromarray(arr_rgb)\n",
    "\n",
    "for question_dir in (Path(\"../data/processed\") / test_id).iterdir():\n",
    "    if not question_dir.is_dir():\n",
    "        continue\n",
    "\n",
    "    for img_path in question_dir.iterdir():\n",
    "        if img_path.name == \"metadata.json\":\n",
    "            continue\n",
    "\n",
    "        img = cap_whitespace_from_canvas(Image.open(img_path))\n",
    "        img.save(img_path)"
   ]
  },
  {
   "cell_type": "code",
   "execution_count": 46,
   "id": "f66e9fbf",
   "metadata": {},
   "outputs": [],
   "source": [
    "# ✏️ EDIT\n",
    "os.startfile(test_path.resolve())"
   ]
  },
  {
   "cell_type": "code",
   "execution_count": 14,
   "id": "f66932dc",
   "metadata": {},
   "outputs": [],
   "source": [
    "# 🗑️ DELETE\n",
    "shutil.rmtree(test_path)"
   ]
  },
  {
   "cell_type": "markdown",
   "id": "9aa29eea",
   "metadata": {},
   "source": [
    "Common Problems (i.e. not enough cropping):\n",
    "- What if a question is split across pages and the professor was kind enough to repeat the question/diagram on the second page?\n",
    "- Long, horizontal lines at the bottom of pages\n",
    "- Version 2's being attached to last answer\n",
    "- Need to crop \"DO NOT WRITE...\""
   ]
  },
  {
   "cell_type": "markdown",
   "id": "9c26caad",
   "metadata": {},
   "source": [
    "Common Problems (i.e. wrong or too much cropping)\n",
    "- What if a non-question page has 1., 2. ...?\n",
    "- Answer key is not sectioned correctly while questions are! Usually a previous answer contains part of the next one.\n",
    "- Part of question erased!\n",
    "- Diagram of a question partially above number"
   ]
  }
 ],
 "metadata": {
  "kernelspec": {
   "display_name": ".venv",
   "language": "python",
   "name": "python3"
  },
  "language_info": {
   "codemirror_mode": {
    "name": "ipython",
    "version": 3
   },
   "file_extension": ".py",
   "mimetype": "text/x-python",
   "name": "python",
   "nbconvert_exporter": "python",
   "pygments_lexer": "ipython3",
   "version": "3.10.0"
  }
 },
 "nbformat": 4,
 "nbformat_minor": 5
}
